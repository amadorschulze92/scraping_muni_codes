{
 "cells": [
  {
   "cell_type": "code",
   "execution_count": 1,
   "metadata": {},
   "outputs": [],
   "source": [
    "from bs4 import BeautifulSoup\n",
    "import requests\n",
    "import sys\n",
    "import time\n",
    "import random\n",
    "import re\n",
    "import pandas as pd\n",
    "from selenium import webdriver\n",
    "import scrapy"
   ]
  },
  {
   "cell_type": "code",
   "execution_count": 2,
   "metadata": {},
   "outputs": [],
   "source": [
    "berkeley_code_links = \"https://igs.berkeley.edu/library/california-local-government-documents/codes-and-charters\"\n",
    "mtc_website_links = \"https://abag.ca.gov/about-abag/what-we-do/our-members\""
   ]
  },
  {
   "cell_type": "code",
   "execution_count": 3,
   "metadata": {},
   "outputs": [],
   "source": [
    "def fetch(url,delay=(1,3)):\n",
    "    \"\"\"\n",
    "    Simulate human random clicking 1..3 seconds then fetch URL.\n",
    "    Returns the actual page source fetched and the beautiful soup object.\n",
    "    \"\"\"\n",
    "    time.sleep(random.randint(delay[0],delay[1])) # wait random seconds\n",
    "    r = requests.get(url, headers={'User-Agent': \"Meow\"})\n",
    "    soup = BeautifulSoup(r.text, \"html.parser\")\n",
    "    html = soup.prettify()\n",
    "    return (html,soup)"
   ]
  },
  {
   "cell_type": "code",
   "execution_count": 4,
   "metadata": {},
   "outputs": [],
   "source": [
    "def collect_city_names(url):\n",
    "    html,soup = fetch(url)\n",
    "    links = []\n",
    "    for county in soup.find_all(\"tr\"):\n",
    "        my_county = [county.find(\"h5\").a.text]\n",
    "        for link in county.find_all(\"li\"):\n",
    "            my_county.append(link.a.text)\n",
    "        links.append(my_county)\n",
    "    return links"
   ]
  },
  {
   "cell_type": "code",
   "execution_count": 5,
   "metadata": {},
   "outputs": [
    {
     "name": "stdout",
     "output_type": "stream",
     "text": [
      "108\n"
     ]
    }
   ],
   "source": [
    "my_cities = collect_city_names(\"https://abag.ca.gov/about-abag/what-we-do/our-members\")\n",
    "# flatten list\n",
    "my_cities = [item for sublist in my_cities for item in sublist]\n",
    "# replace unnecessary phrases\n",
    "my_cities = [x.replace(\"City of\",\"\").replace(\"Town of\",\"\") for x in my_cities]\n",
    "my_cities = [x.replace(\"City and County of\",\"\").replace(\"County of\",\"\") for x in my_cities]\n",
    "my_cities = [x.replace(\"County\",\"\") for x in my_cities]\n",
    "my_cities = [x[:x.find('(')] if '(' in x else x for x in my_cities]\n",
    "# get rid of whitespace\n",
    "my_cities = [x.strip().lower() for x in my_cities]\n",
    "# lets take a look at what we got\n",
    "print(len(my_cities))"
   ]
  },
  {
   "cell_type": "code",
   "execution_count": 6,
   "metadata": {},
   "outputs": [],
   "source": [
    "def collect_city_links(url, known_cities):\n",
    "    html,soup = fetch(url)\n",
    "    links = []\n",
    "    for a in soup.find_all(\"a\"):\n",
    "        if a.has_attr('href'):\n",
    "            city_name = a.text\n",
    "            if '(' in city_name:\n",
    "                city_name = city_name[:city_name.find('(')-1]\n",
    "            for known in known_cities:\n",
    "                if known.lower().strip() in city_name.lower().strip():\n",
    "                    links.append([city_name.lower().strip(), a.attrs[\"href\"]])\n",
    "    return [x for x in links if len(x[0])>3]"
   ]
  },
  {
   "cell_type": "code",
   "execution_count": 7,
   "metadata": {},
   "outputs": [],
   "source": [
    "my_links = collect_city_links(berkeley_code_links, my_cities)"
   ]
  },
  {
   "cell_type": "code",
   "execution_count": 8,
   "metadata": {},
   "outputs": [],
   "source": [
    "sort_links = sorted(my_links, key = lambda x: x[0])\n",
    "link_dict = {}\n",
    "\n",
    "for x in sort_links:\n",
    "    if x[0] in ['marina', 'portola', 'san marino', 'berkeley igs poll', 'walnut',\n",
    "               'san francisco bay area city financial documents', 'san francisco - all sections']:\n",
    "        pass\n",
    "    elif x[0] in link_dict:\n",
    "        link_dict[x[0]].append(x[1])\n",
    "    else:\n",
    "        link_dict[x[0]] = [x[1]]\n",
    "\n",
    "# I added these manually since they were not in the cheat link\n",
    "link_dict[\"mill valley\"] = [\"http://qcode.us/codes/millvalley/\"]\n",
    "link_dict[\"san jose\"] = [\"https://library.municode.com/ca/san_jose/codes/code_of_ordinances\"]\n",
    "link_dict[\"saint helena\"] = [\"https://www.codepublishing.com/CA/StHelena/\"]\n",
    "link_dict[\"berkeley\"] = [\"https://www.codepublishing.com/CA/Berkeley/\"]"
   ]
  },
  {
   "cell_type": "code",
   "execution_count": 9,
   "metadata": {},
   "outputs": [
    {
     "name": "stdout",
     "output_type": "stream",
     "text": [
      "scrape total: 108\n",
      "municode: 44\n",
      "codepublishing: 27\n",
      "qcode: 15\n",
      "amlegal: 8\n",
      "everything else: 14\n"
     ]
    }
   ],
   "source": [
    "municode = []\n",
    "codepub = []\n",
    "qcode = []\n",
    "amlegal = []\n",
    "other = []\n",
    "\n",
    "for x in link_dict.keys():\n",
    "    link_dict[x] = list(set(link_dict[x]))\n",
    "    if 'municode' in link_dict[x][0]:\n",
    "        municode.append(x)\n",
    "        link_dict[x].append(\"municode\")\n",
    "    elif 'codepub' in link_dict[x][0]:\n",
    "        codepub.append(x)\n",
    "        link_dict[x].append(\"codepub\")\n",
    "    elif 'qcode' in link_dict[x][0]:\n",
    "        qcode.append(x)\n",
    "        link_dict[x].append(\"qcode\")\n",
    "    elif 'amlegal' in link_dict[x][0]:\n",
    "        amlegal.append(x)\n",
    "        link_dict[x].append(\"amlegal\")\n",
    "    else:\n",
    "        other.append(x)\n",
    "        link_dict[x].append(\"other\")\n",
    "        \n",
    "\n",
    "print(f\"scrape total: {len(link_dict)}\")\n",
    "print(f\"municode: {len(municode)}\")\n",
    "print(f\"codepublishing: {len(codepub)}\")\n",
    "print(f\"qcode: {len(qcode)}\")\n",
    "print(f\"amlegal: {len(amlegal)}\")\n",
    "print(f\"everything else: {len(other)}\")"
   ]
  },
  {
   "cell_type": "code",
   "execution_count": 10,
   "metadata": {},
   "outputs": [
    {
     "name": "stdout",
     "output_type": "stream",
     "text": [
      "['albany', 'belvedere', 'colma', 'dixon', 'fremont', 'gilroy', 'hayward', 'healdsburg', 'piedmont', 'ross', 'san mateo', 'sausalito', 'sebastopol', 'solano county']\n"
     ]
    }
   ],
   "source": [
    "print(other)"
   ]
  },
  {
   "cell_type": "code",
   "execution_count": 11,
   "metadata": {},
   "outputs": [
    {
     "data": {
      "text/html": [
       "<div>\n",
       "<style scoped>\n",
       "    .dataframe tbody tr th:only-of-type {\n",
       "        vertical-align: middle;\n",
       "    }\n",
       "\n",
       "    .dataframe tbody tr th {\n",
       "        vertical-align: top;\n",
       "    }\n",
       "\n",
       "    .dataframe thead th {\n",
       "        text-align: right;\n",
       "    }\n",
       "</style>\n",
       "<table border=\"1\" class=\"dataframe\">\n",
       "  <thead>\n",
       "    <tr style=\"text-align: right;\">\n",
       "      <th></th>\n",
       "      <th>city</th>\n",
       "      <th>links</th>\n",
       "      <th>link_type</th>\n",
       "    </tr>\n",
       "  </thead>\n",
       "  <tbody>\n",
       "    <tr>\n",
       "      <th>0</th>\n",
       "      <td>alameda</td>\n",
       "      <td>[http://library.municode.com/index.aspx?client...</td>\n",
       "      <td>municode</td>\n",
       "    </tr>\n",
       "    <tr>\n",
       "      <th>1</th>\n",
       "      <td>alameda county</td>\n",
       "      <td>[http://www.municode.com/Resources/gateway.asp...</td>\n",
       "      <td>municode</td>\n",
       "    </tr>\n",
       "    <tr>\n",
       "      <th>2</th>\n",
       "      <td>albany</td>\n",
       "      <td>[http://clerkshq.com/default.ashx?clientsite=a...</td>\n",
       "      <td>other</td>\n",
       "    </tr>\n",
       "    <tr>\n",
       "      <th>3</th>\n",
       "      <td>american canyon</td>\n",
       "      <td>[http://qcode.us/codes/americancanyon/]</td>\n",
       "      <td>qcode</td>\n",
       "    </tr>\n",
       "    <tr>\n",
       "      <th>4</th>\n",
       "      <td>antioch</td>\n",
       "      <td>[http://www.amlegal.com/antioch_ca/]</td>\n",
       "      <td>amlegal</td>\n",
       "    </tr>\n",
       "    <tr>\n",
       "      <th>5</th>\n",
       "      <td>atherton</td>\n",
       "      <td>[http://www.codepublishing.com/CA/atherton.html]</td>\n",
       "      <td>codepub</td>\n",
       "    </tr>\n",
       "    <tr>\n",
       "      <th>6</th>\n",
       "      <td>belmont</td>\n",
       "      <td>[http://www.municode.com/resources/gateway.asp...</td>\n",
       "      <td>municode</td>\n",
       "    </tr>\n",
       "    <tr>\n",
       "      <th>7</th>\n",
       "      <td>belvedere</td>\n",
       "      <td>[http://www.cityofbelvedere.org/index.aspx?NID...</td>\n",
       "      <td>other</td>\n",
       "    </tr>\n",
       "    <tr>\n",
       "      <th>8</th>\n",
       "      <td>benicia</td>\n",
       "      <td>[http://www.codepublishing.com/ca/benicia/]</td>\n",
       "      <td>codepub</td>\n",
       "    </tr>\n",
       "    <tr>\n",
       "      <th>9</th>\n",
       "      <td>berkeley</td>\n",
       "      <td>[https://www.codepublishing.com/CA/Berkeley/]</td>\n",
       "      <td>codepub</td>\n",
       "    </tr>\n",
       "  </tbody>\n",
       "</table>\n",
       "</div>"
      ],
      "text/plain": [
       "              city                                              links  \\\n",
       "0          alameda  [http://library.municode.com/index.aspx?client...   \n",
       "1   alameda county  [http://www.municode.com/Resources/gateway.asp...   \n",
       "2           albany  [http://clerkshq.com/default.ashx?clientsite=a...   \n",
       "3  american canyon            [http://qcode.us/codes/americancanyon/]   \n",
       "4          antioch               [http://www.amlegal.com/antioch_ca/]   \n",
       "5         atherton   [http://www.codepublishing.com/CA/atherton.html]   \n",
       "6          belmont  [http://www.municode.com/resources/gateway.asp...   \n",
       "7        belvedere  [http://www.cityofbelvedere.org/index.aspx?NID...   \n",
       "8          benicia        [http://www.codepublishing.com/ca/benicia/]   \n",
       "9         berkeley      [https://www.codepublishing.com/CA/Berkeley/]   \n",
       "\n",
       "  link_type  \n",
       "0  municode  \n",
       "1  municode  \n",
       "2     other  \n",
       "3     qcode  \n",
       "4   amlegal  \n",
       "5   codepub  \n",
       "6  municode  \n",
       "7     other  \n",
       "8   codepub  \n",
       "9   codepub  "
      ]
     },
     "execution_count": 11,
     "metadata": {},
     "output_type": "execute_result"
    }
   ],
   "source": [
    "df = pd.DataFrame(list(link_dict.items()))\n",
    "df.columns = [\"city\", \"stuff\"]\n",
    "# df[\"city\"] = [x.replace(\" \",\"\") for x in df[\"city\"]]\n",
    "# sift thru \"stuff\" to seperate links and the types of links\n",
    "df[\"link_type\"] = df[\"stuff\"].str[-1]\n",
    "df[\"links\"] = df[\"stuff\"].str[:-1]\n",
    "# now that it is seperated we dont need \"stuff\" anymore\n",
    "df.drop(\"stuff\", axis=1, inplace=True)\n",
    "# reorder cols\n",
    "cols = [\"city\", \"links\", \"link_type\"]\n",
    "df = df[cols]\n",
    "\n",
    "df.to_csv(\"my_links.csv\")\n",
    "df.head(10)"
   ]
  },
  {
   "cell_type": "code",
   "execution_count": null,
   "metadata": {},
   "outputs": [],
   "source": []
  }
 ],
 "metadata": {
  "kernelspec": {
   "display_name": "Python 3",
   "language": "python",
   "name": "python3"
  },
  "language_info": {
   "codemirror_mode": {
    "name": "ipython",
    "version": 3
   },
   "file_extension": ".py",
   "mimetype": "text/x-python",
   "name": "python",
   "nbconvert_exporter": "python",
   "pygments_lexer": "ipython3",
   "version": "3.7.4"
  }
 },
 "nbformat": 4,
 "nbformat_minor": 4
}
